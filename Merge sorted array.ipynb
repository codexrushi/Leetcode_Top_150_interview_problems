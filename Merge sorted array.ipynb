{
 "cells": [
  {
   "cell_type": "markdown",
   "id": "4860ff18",
   "metadata": {},
   "source": [
    "# Leetcode Problem 1 Merge sorted array\n",
    "\n",
    "        "
   ]
  },
  {
   "cell_type": "code",
   "execution_count": null,
   "id": "b4ed3e94",
   "metadata": {},
   "outputs": [],
   "source": [
    "## first approach is three-pointer problem"
   ]
  },
  {
   "cell_type": "code",
   "execution_count": null,
   "id": "09f133d9",
   "metadata": {},
   "outputs": [],
   "source": [
    "class Solution(object):\n",
    "    def merge(self, nums1, m, nums2, n):\n",
    "        \"\"\"\n",
    "        :type nums1: List[int]\n",
    "        :type m: int\n",
    "        :type nums2: List[int]\n",
    "        :type n: int\n",
    "        :rtype: None\n",
    "        \"\"\"\n",
    "        p1, p2, p = m - 1, n - 1, m + n - 1\n",
    "\n",
    "        # Merge from the end of nums1\n",
    "        while p1 >= 0 and p2 >= 0:\n",
    "            if nums1[p1] > nums2[p2]:\n",
    "                nums1[p] = nums1[p1]\n",
    "                p1 -= 1\n",
    "            else:\n",
    "                nums1[p] = nums2[p2]\n",
    "                p2 -= 1\n",
    "            p -= 1\n",
    "            print(nums1)\n",
    "\n",
    "        # If there are remaining elements in nums2, copy them over\n",
    "        while p2 >= 0:\n",
    "            nums1[p] = nums2[p2]\n",
    "            p2 -= 1\n",
    "            p -= 1\n",
    "\n",
    "            \n",
    "\n",
    "sol = Solution()\n",
    "\n",
    "# Example test case\n",
    "nums1 = [1,2,3,0,0,0]\n",
    "m = 3\n",
    "nums2 = [2,5,6]\n",
    "n = 3\n",
    "\n",
    "# Call the merge method\n",
    "sol.merge(nums1, m, nums2, n)\n",
    "\n",
    "# Print final result\n",
    "print(\"Merged array:\", nums1)\n"
   ]
  },
  {
   "cell_type": "markdown",
   "id": "c2e20439",
   "metadata": {},
   "source": [
    "### second approach is three-pointer problem"
   ]
  },
  {
   "cell_type": "code",
   "execution_count": 4,
   "id": "741f06cc",
   "metadata": {},
   "outputs": [
    {
     "name": "stdout",
     "output_type": "stream",
     "text": [
      "[1, 2, 3, 2, 5, 6]\n",
      "[1, 2, 2, 3, 5, 6]\n",
      "Merged array: [1, 2, 2, 3, 5, 6]\n"
     ]
    }
   ],
   "source": [
    "class Solution(object):\n",
    "    def merge(self, nums1, m, nums2, n):\n",
    "        \"\"\"\n",
    "        Alternative approach using built-in sort.\n",
    "        \"\"\"\n",
    "        nums1[m:] = nums2 \n",
    "        print(nums1) \n",
    "        # Directly replace the empty space in nums1 with nums2\n",
    "        nums1.sort()  # Sort the array in-place\n",
    "        print(nums1)\n",
    "sol = Solution()\n",
    "\n",
    "# Example test case\n",
    "nums1 = [1,2,3,0,0,0]\n",
    "m = 3\n",
    "nums2 = [2,5,6]\n",
    "n = 3\n",
    "\n",
    "# Call the merge method\n",
    "sol.merge(nums1, m, nums2, n)\n",
    "\n",
    "# Print final result\n",
    "print(\"Merged array:\", nums1)"
   ]
  },
  {
   "cell_type": "markdown",
   "id": "52bfc7f6",
   "metadata": {},
   "source": [
    "## second problem"
   ]
  },
  {
   "cell_type": "code",
   "execution_count": 9,
   "id": "d4d1f3ee",
   "metadata": {},
   "outputs": [
    {
     "name": "stdout",
     "output_type": "stream",
     "text": [
      "Before: [3, 2, 2, 3], val = 3\n",
      "After: [2, 2], Length: 2\n",
      "Before: [0, 1, 2, 2, 3, 0, 4, 2], val = 2\n",
      "After: [0, 1, 3, 0, 4], Length: 5\n"
     ]
    }
   ],
   "source": []
  },
  {
   "cell_type": "code",
   "execution_count": 11,
   "id": "8590f547",
   "metadata": {},
   "outputs": [
    {
     "name": "stdout",
     "output_type": "stream",
     "text": [
      "Before: [3, 2, 2, 3], val = 3\n",
      "After: [2, 2], Length: 2\n",
      "Before: [0, 1, 2, 2, 3, 0, 4, 2], val = 2\n",
      "After: [0, 1, 3, 0, 4], Length: 5\n"
     ]
    }
   ],
   "source": [
    "class Solution(object):\n",
    "    def removeElement(self, nums, val):\n",
    "        nums[:] = [num for num in nums if num != val]\n",
    "        return len(nums)\n",
    "# Test case\n",
    "solution = Solution()\n",
    "\n",
    "# Example 1\n",
    "nums1 = [3, 2, 2, 3]\n",
    "val1 = 3\n",
    "print(f\"Before: {nums1}, val = {val1}\")\n",
    "k1 = solution.removeElement(nums1, val1)\n",
    "print(f\"After: {nums1[:k1]}, Length: {k1}\")\n",
    "\n",
    "# Example 2\n",
    "nums2 = [0, 1, 2, 2, 3, 0, 4, 2]\n",
    "val2 = 2\n",
    "print(f\"Before: {nums2}, val = {val2}\")\n",
    "k2 = solution.removeElement(nums2, val2)\n",
    "print(f\"After: {nums2[:k2]}, Length: {k2}\")"
   ]
  },
  {
   "cell_type": "code",
   "execution_count": null,
   "id": "a8ac40b3",
   "metadata": {},
   "outputs": [],
   "source": []
  }
 ],
 "metadata": {
  "kernelspec": {
   "display_name": "Python 3 (ipykernel)",
   "language": "python",
   "name": "python3"
  },
  "language_info": {
   "codemirror_mode": {
    "name": "ipython",
    "version": 3
   },
   "file_extension": ".py",
   "mimetype": "text/x-python",
   "name": "python",
   "nbconvert_exporter": "python",
   "pygments_lexer": "ipython3",
   "version": "3.10.2"
  }
 },
 "nbformat": 4,
 "nbformat_minor": 5
}
