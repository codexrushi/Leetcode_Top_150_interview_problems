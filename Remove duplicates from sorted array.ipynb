{
 "cells": [
  {
   "cell_type": "markdown",
   "id": "eec0ff4f",
   "metadata": {},
   "source": [
    "# Leetcode problem 2 Remove duplicates from sorted array "
   ]
  },
  {
   "cell_type": "markdown",
   "id": "7cafd807",
   "metadata": {},
   "source": [
    "## First approach is two pointer approach"
   ]
  },
  {
   "cell_type": "code",
   "execution_count": 1,
   "id": "547f21e3",
   "metadata": {},
   "outputs": [
    {
     "name": "stdout",
     "output_type": "stream",
     "text": [
      "Before: [3, 2, 2, 3], val = 3\n",
      "After: [2, 2], Length: 2\n",
      "Before: [0, 1, 2, 2, 3, 0, 4, 2], val = 2\n",
      "After: [0, 1, 3, 0, 4], Length: 5\n"
     ]
    }
   ],
   "source": [
    "class Solution(object):\n",
    "    def removeElement(self, nums, val):\n",
    "        k = 0  # Pointer to keep track of the index for the next valid element\n",
    "        \n",
    "        for i in range(len(nums)):\n",
    "            if nums[i] != val:\n",
    "                nums[k] = nums[i]  # Move valid element to the front\n",
    "                k += 1  # Increment the pointer\n",
    "        \n",
    "        return k\n",
    "\n",
    "# Test case\n",
    "solution = Solution()\n",
    "\n",
    "# Example 1\n",
    "nums1 = [3, 2, 2, 3]\n",
    "val1 = 3\n",
    "print(f\"Before: {nums1}, val = {val1}\")\n",
    "k1 = solution.removeElement(nums1, val1)\n",
    "print(f\"After: {nums1[:k1]}, Length: {k1}\")\n",
    "\n",
    "# Example 2\n",
    "nums2 = [0, 1, 2, 2, 3, 0, 4, 2]\n",
    "val2 = 2\n",
    "print(f\"Before: {nums2}, val = {val2}\")\n",
    "k2 = solution.removeElement(nums2, val2)\n",
    "print(f\"After: {nums2[:k2]}, Length: {k2}\")\n"
   ]
  },
  {
   "cell_type": "markdown",
   "id": "f5e7ca85",
   "metadata": {},
   "source": [
    "## second approach is List comprehension"
   ]
  },
  {
   "cell_type": "code",
   "execution_count": 2,
   "id": "e3631e91",
   "metadata": {},
   "outputs": [
    {
     "name": "stdout",
     "output_type": "stream",
     "text": [
      "Before: [3, 2, 2, 3], val = 3\n",
      "After: [2, 2], Length: 2\n",
      "Before: [0, 1, 2, 2, 3, 0, 4, 2], val = 2\n",
      "After: [0, 1, 3, 0, 4], Length: 5\n"
     ]
    }
   ],
   "source": [
    "class Solution(object):\n",
    "    def removeElement(self, nums, val):\n",
    "        nums[:] = [num for num in nums if num != val]\n",
    "        return len(nums)\n",
    "# Test case\n",
    "solution = Solution()\n",
    "\n",
    "# Example 1\n",
    "nums1 = [3, 2, 2, 3]\n",
    "val1 = 3\n",
    "print(f\"Before: {nums1}, val = {val1}\")\n",
    "k1 = solution.removeElement(nums1, val1)\n",
    "print(f\"After: {nums1[:k1]}, Length: {k1}\")\n",
    "\n",
    "# Example 2\n",
    "nums2 = [0, 1, 2, 2, 3, 0, 4, 2]\n",
    "val2 = 2\n",
    "print(f\"Before: {nums2}, val = {val2}\")\n",
    "k2 = solution.removeElement(nums2, val2)\n",
    "print(f\"After: {nums2[:k2]}, Length: {k2}\")"
   ]
  },
  {
   "cell_type": "code",
   "execution_count": null,
   "id": "82436dcc",
   "metadata": {},
   "outputs": [],
   "source": []
  }
 ],
 "metadata": {
  "kernelspec": {
   "display_name": "Python 3 (ipykernel)",
   "language": "python",
   "name": "python3"
  },
  "language_info": {
   "codemirror_mode": {
    "name": "ipython",
    "version": 3
   },
   "file_extension": ".py",
   "mimetype": "text/x-python",
   "name": "python",
   "nbconvert_exporter": "python",
   "pygments_lexer": "ipython3",
   "version": "3.10.2"
  }
 },
 "nbformat": 4,
 "nbformat_minor": 5
}
